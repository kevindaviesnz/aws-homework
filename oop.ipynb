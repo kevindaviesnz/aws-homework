{
 "cells": [
  {
   "cell_type": "code",
   "execution_count": null,
   "metadata": {},
   "outputs": [],
   "source": [
    "\n",
    "# Empty class\n",
    "\n",
    "class Car:\n",
    "    pass\n"
   ]
  },
  {
   "cell_type": "code",
   "execution_count": null,
   "metadata": {},
   "outputs": [],
   "source": [
    "class Car:\n",
    "    def __init__(self, brand):\n",
    "        self.brand = brand\n",
    "\n",
    "my_car = Car(brand=\"toyota\")\n",
    "your_car = Car(brand=\"mazda\")\n",
    "\n",
    "print(my_car)\n",
    "print(your_car)\n",
    "print(my_car.brand)\n",
    "\n"
   ]
  },
  {
   "cell_type": "code",
   "execution_count": null,
   "metadata": {},
   "outputs": [],
   "source": [
    "class Car:\n",
    "    \n",
    "    def __init__(self, brand):\n",
    "        self.brand = brand\n",
    "        self.milage_km = 0\n",
    "    \n",
    "    def drive(self, distance_km):\n",
    "        self.milage_km += distance_km\n",
    "\n",
    "\n",
    "my_car = Car(brand=\"toyota\")\n",
    "my_car.drive(20)\n",
    "print(my_car.milage_km)\n",
    "print(my_car.__dict__)\n"
   ]
  },
  {
   "cell_type": "code",
   "execution_count": null,
   "metadata": {},
   "outputs": [],
   "source": [
    "class Car:\n",
    "    \n",
    "    def __init__(self, brand):\n",
    "        self.brand = brand\n",
    "        self.milage_km = 0\n",
    "    \n",
    "    def drive(self, distance_km):\n",
    "        self.milage_km += distance_km\n",
    "\n",
    "\n",
    "class ElectricCar(Car):\n",
    "    pass\n",
    "\n",
    "class ICECar(Car):\n",
    "    pass\n",
    "\n",
    "\n",
    "my_car = Car(brand=\"toyota\")\n",
    "my_car.drive(20)\n",
    "print(my_car.milage_km)\n",
    "print(my_car.__dict__)\n",
    "my_electric_car = ElectricCar('Tesla')\n",
    "my_electric_car.drive(100)\n",
    "print(f\"Electric car = {my_electric_car.brand} km={my_electric_car.milage_km}\")\n",
    "print(my_electric_car.__dict__)\n",
    "\n",
    "my_ice_car = ElectricCar('V8')\n",
    "my_ice_car.drive(127)\n",
    "my_ice_car.drive(1227)\n",
    "print(f\"Ice car = {my_ice_car.brand} km={my_ice_car.milage_km}\")\n",
    "print(my_ice_car.__dict__)\n"
   ]
  },
  {
   "cell_type": "code",
   "execution_count": 52,
   "metadata": {},
   "outputs": [
    {
     "name": "stdout",
     "output_type": "stream",
     "text": [
      "2000\n",
      "4000\n",
      "100l\n",
      "2000\n"
     ]
    }
   ],
   "source": [
    "class Car:\n",
    "    \n",
    "    def __init__(self, brand, milage_km):\n",
    "        self.brand = brand\n",
    "        self.milage_km = milage_km\n",
    "    \n",
    "    def drive(self, distance_km):\n",
    "        self.milage_km += distance_km\n",
    "\n",
    "\n",
    "class ElectricCar(Car):\n",
    "    def __init__(self, brand, milage_km, range):\n",
    "        super().__init__(brand, milage_km)\n",
    "        self.range = range\n",
    "\n",
    "class IceCar(Car):\n",
    "    def __init__(self, brand, milage_km, fuel_consumption, fuel_level):\n",
    "        Car.__init__(self, brand, milage_km)\n",
    "        self.fuel_consumption = fuel_consumption\n",
    "        self.fuel_level = fuel_level\n",
    "\n",
    "my_electric_car = ElectricCar('Tesla', 200, 4000)\n",
    "print(my_electric_car.range)\n",
    "\n",
    "\n",
    "my_ice_car = IceCar('V8', 400, 4000, '100l')\n",
    "    \n",
    "print(my_ice_car.fuel_consumption)\n",
    "print(my_ice_car.fuel_level)\n",
    "my_ice_car.drive(2000)\n",
    "print(my_ice_car.milage_km)\n"
   ]
  },
  {
   "cell_type": "markdown",
   "metadata": {},
   "source": [
    "Customize behaviour of drive "
   ]
  }
 ],
 "metadata": {
  "kernelspec": {
   "display_name": "base",
   "language": "python",
   "name": "python3"
  },
  "language_info": {
   "codemirror_mode": {
    "name": "ipython",
    "version": 3
   },
   "file_extension": ".py",
   "mimetype": "text/x-python",
   "name": "python",
   "nbconvert_exporter": "python",
   "pygments_lexer": "ipython3",
   "version": "3.11.5"
  }
 },
 "nbformat": 4,
 "nbformat_minor": 2
}
